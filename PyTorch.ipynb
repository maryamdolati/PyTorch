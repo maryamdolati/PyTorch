{
  "nbformat": 4,
  "nbformat_minor": 0,
  "metadata": {
    "colab": {
      "provenance": []
    },
    "kernelspec": {
      "name": "python3",
      "display_name": "Python 3"
    },
    "language_info": {
      "name": "python"
    }
  },
  "cells": [
    {
      "cell_type": "code",
      "execution_count": 1,
      "metadata": {
        "colab": {
          "base_uri": "https://localhost:8080/"
        },
        "id": "lVNmSaVbN2uS",
        "outputId": "be36033d-d13e-4c4e-ad9d-1a99334f79e1"
      },
      "outputs": [
        {
          "output_type": "stream",
          "name": "stdout",
          "text": [
            "Epoch 0, Loss: 0.9828953742980957\n",
            "Epoch 10, Loss: 0.6236509084701538\n",
            "Epoch 20, Loss: 0.5092757940292358\n",
            "Epoch 30, Loss: 0.4085182547569275\n",
            "Epoch 40, Loss: 0.31873390078544617\n",
            "Epoch 50, Loss: 0.2449614256620407\n",
            "Epoch 60, Loss: 0.18828372657299042\n",
            "Epoch 70, Loss: 0.14642935991287231\n",
            "Epoch 80, Loss: 0.11594308167695999\n",
            "Epoch 90, Loss: 0.09365105628967285\n",
            "Test output: tensor([[-1.3893,  1.1342]])\n"
          ]
        }
      ],
      "source": [
        "import torch\n",
        "import torch.nn as nn\n",
        "import torch.nn.functional as F\n",
        "import torch.optim as optim\n",
        "\n",
        "# تعریف یک شبکه عصبی با یک لایه پنهان\n",
        "class Net(nn.Module):\n",
        "    def __init__(self):\n",
        "        super(Net, self).__init__()\n",
        "        # یک لایه خطی با 5 نورون در لایه پنهان\n",
        "        self.fc1 = nn.Linear(10, 5)  # 10 ویژگی ورودی\n",
        "        self.fc2 = nn.Linear(5, 2)   # 2 خروجی\n",
        "\n",
        "    def forward(self, x):\n",
        "        x = F.relu(self.fc1(x))  # فعال‌سازی ReLU برای لایه پنهان\n",
        "        x = self.fc2(x)\n",
        "        return x\n",
        "\n",
        "# ساخت یک نمونه از شبکه\n",
        "net = Net()\n",
        "\n",
        "# تعریف یک تابع هزینه و بهینه‌ساز\n",
        "criterion = nn.CrossEntropyLoss()\n",
        "optimizer = optim.SGD(net.parameters(), lr=0.01)\n",
        "\n",
        "# داده‌های دست‌ساز برای آموزش\n",
        "inputs = torch.randn(1, 10)  # 1 نمونه با 10 ویژگی\n",
        "labels = torch.tensor([1])   # فرض کنید برچسب صحیح 1 باشد\n",
        "\n",
        "# حلقه آموزش\n",
        "for epoch in range(100):  # تعداد دوره‌های آموزشی\n",
        "    optimizer.zero_grad()   # پاک کردن گرادیان‌های جمع‌شده\n",
        "    outputs = net(inputs)   # پیش‌بینی شبکه\n",
        "    loss = criterion(outputs, labels)  # محاسبه خطا\n",
        "    loss.backward()         # محاسبه گرادیان‌ها\n",
        "    optimizer.step()        # به‌روزرسانی وزن‌ها\n",
        "\n",
        "    if epoch % 10 == 0:\n",
        "        print(f'Epoch {epoch}, Loss: {loss.item()}')\n",
        "\n",
        "# تست شبکه\n",
        "with torch.no_grad():  # بدون محاسبه گرادیان\n",
        "    test_output = net(inputs)\n",
        "    print(\"Test output:\", test_output)\n"
      ]
    }
  ]
}